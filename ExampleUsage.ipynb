{
 "cells": [
  {
   "cell_type": "markdown",
   "source": [
    "Importing classes"
   ],
   "metadata": {
    "collapsed": false
   }
  },
  {
   "cell_type": "code",
   "execution_count": 17,
   "metadata": {
    "collapsed": true
   },
   "outputs": [],
   "source": [
    "import PBSclasses.Trainers as tr\n",
    "import PBSclasses.Pokemon as pk\n",
    "import PBSclasses.TrainerTypes as tp\n",
    "import PBSclasses.Species as sp\n",
    "from PBSclasses.Environment import Environment\n",
    "\n",
    "from Parser import *\n",
    "import FileLoader"
   ]
  },
  {
   "cell_type": "markdown",
   "source": [
    "Loading file of different format"
   ],
   "metadata": {
    "collapsed": false
   }
  },
  {
   "cell_type": "code",
   "execution_count": 18,
   "outputs": [],
   "source": [
    "csv_trainer = FileLoader.file_csv_tolist('PBS/trainers.txt')\n",
    "csv_trainer_type = FileLoader.file_csv_tolist('PBS/trainertypes.txt')\n",
    "csv_move = FileLoader.file_csv_tolist('PBS/moves.txt')\n",
    "csv_item = FileLoader.file_csv_tolist('PBS/items.txt')\n",
    "csv_ability = FileLoader.file_csv_tolist('PBS/abilities.txt')\n",
    "csv_encounter = FileLoader.file_csv_tolist('PBS/encounters.txt')\n",
    "equal_pokemon_species = FileLoader.file_equal_to_list('PBS/pokemon.txt')\n",
    "\n"
   ],
   "metadata": {
    "collapsed": false,
    "pycharm": {
     "name": "#%%\n"
    }
   }
  },
  {
   "cell_type": "markdown",
   "source": [
    "Parsing thoses files and putting them into the environment"
   ],
   "metadata": {
    "collapsed": false
   }
  },
  {
   "cell_type": "code",
   "execution_count": 11,
   "outputs": [],
   "source": [
    "env = Environment()\n",
    "env.load_environment(csv_trainer_type, equal_pokemon_species, csv_move, csv_item, csv_trainer, csv_encounter,\n",
    "                         csv_ability)\n"
   ],
   "metadata": {
    "collapsed": false,
    "pycharm": {
     "name": "#%%\n"
    }
   }
  },
  {
   "cell_type": "markdown",
   "source": [
    "Exporting to bulbapedia trainer entry template"
   ],
   "metadata": {
    "collapsed": false
   }
  },
  {
   "cell_type": "code",
   "execution_count": 12,
   "outputs": [
    {
     "name": "stdout",
     "output_type": "stream",
     "text": [
      "TYPE <Id number: 2, Id: Punk, Name: Punk, Base money: 7, Gender: Female, Skilllevel: 50>\n",
      "Name: Macy\n",
      "Nb pokemon: 1\n",
      "Pokemon list: [ <SPECIES <Name: Buneary, Internal name: BUNEARY, Id: 427, Type1: NORMAL, BASE STATS <Hp: 55, Attack: 66, Defense: 44, Speed: 85, Special attack: 44, Special defense: 56>, Gender rate: Female50Percent, Base exp: 70, Moves: [('1', 'FRUSTRATION'), ('1', 'DEFENSECURL'), ('1', 'SPLASH'), ('1', 'POUND'), ('1', 'FORESIGHT'), ('6', 'ENDURE'), ('13', 'BABYDOLLEYES'), ('16', 'QUICKATTACK'), ('23', 'JUMPKICK'), ('26', 'BATONPASS'), ('33', 'AGILITY'), ('36', 'DIZZYPUNCH'), ('43', 'AFTERYOU'), ('46', 'CHARM'), ('50', 'ENTRAINMENT'), ('56', 'BOUNCE'), ('63', 'HEALINGWISH')], Height: 0.4, EVOLUTIONS <Name: LOPUNNY, Method: Happiness>, Pokedex: It slams foes by sharply uncoiling its rolled ears. It stings enough to make a grown-up cry in pain.>, Level: 7>]\n",
      "TYPE <Id number: 2, Id: Punk, Name: Punk, Base money: 7, Gender: Female, Skilllevel: 50>\n",
      "Name: Trill\n",
      "Nb pokemon: 2\n",
      "Pokemon list: [ <SPECIES <Name: Spinarak, Internal name: SPINARAK, Id: 167, Type1: BUG, Type2: POISON, BASE STATS <Hp: 40, Attack: 60, Defense: 40, Speed: 30, Special attack: 40, Special defense: 40>, Gender rate: Female50Percent, Base exp: 50, Moves: [('1', 'POISONSTING'), ('1', 'STRINGSHOT'), ('1', 'CONSTRICT'), ('5', 'ABSORB'), ('8', 'INFESTATION'), ('12', 'SCARYFACE'), ('15', 'NIGHTSHADE'), ('19', 'SHADOWSNEAK'), ('22', 'FURYSWIPES'), ('26', 'SUCKERPUNCH'), ('29', 'SPIDERWEB'), ('33', 'AGILITY'), ('36', 'PINMISSILE'), ('40', 'PSYCHIC'), ('43', 'POISONJAB'), ('47', 'CROSSPOISON'), ('50', 'STICKYWEB'), ('54', 'TOXICTHREAD')], Height: 0.5, EVOLUTIONS <Name: ARIADOS, Method: Level, Evolution parameter: 22>, Pokedex: The web it spins can be considered its second nervous system. A Spinarak can determine its prey by the tiny vibrations it feels through the web.>, Level: 9> <SPECIES <Name: Cutiefly, Internal name: CUTIEFLY, Id: 742, Type1: BUG, Type2: FAIRY, BASE STATS <Hp: 40, Attack: 45, Defense: 40, Speed: 84, Special attack: 55, Special defense: 40>, Gender rate: Female50Percent, Base exp: 61, Moves: [('1', 'ABSORB'), ('4', 'FAIRYWIND'), ('7', 'STUNSPORE'), ('10', 'STRUGGLEBUG'), ('13', 'SILVERWIND'), ('16', 'DRAININGKISS'), ('21', 'SWEETSCENT'), ('26', 'BUGBUZZ'), ('31', 'DAZZLINGGLEAM'), ('36', 'AROMATHERAPY'), ('41', 'QUIVERDANCE')], Height: 0.1, EVOLUTIONS <Name: RIBOMBEE, Method: Level, Evolution parameter: 25>, Pokedex: Myriads of Cutiefly flutter above the heads of people who have auras resembling those of flowers.>, Level: 9>]\n",
      "TYPE <Id number: 2, Id: Punk, Name: Punk, Base money: 7, Gender: Female, Skilllevel: 50>\n",
      "Name: Brittnay\n",
      "Nb pokemon: 2\n",
      "Pokemon list: [ <SPECIES <Name: Lotad, Internal name: LOTAD, Id: 270, Type1: WATER, Type2: GRASS, BASE STATS <Hp: 40, Attack: 30, Defense: 30, Speed: 30, Special attack: 40, Special defense: 50>, Gender rate: Female50Percent, Base exp: 44, Moves: [('1', 'ASTONISH'), ('3', 'GROWL'), ('6', 'ABSORB'), ('9', 'BUBBLE'), ('12', 'NATURALGIFT'), ('15', 'MIST'), ('18', 'MEGADRAIN'), ('21', 'BUBBLEBEAM'), ('24', 'NATUREPOWER'), ('27', 'RAINDANCE'), ('30', 'GIGADRAIN'), ('33', 'ZENHEADBUTT'), ('36', 'ENERGYBALL')], Height: 0.5, EVOLUTIONS <Name: LOMBRE, Method: Level, Evolution parameter: 14>, Pokedex: This Pokémon lives in ponds with clean water. It is known to ferry small Pokémon across ponds by carrying them on the broad leaf on its head.>, Level: 16> <SPECIES <Name: Deerling, Internal name: DEERLING, Id: 585, Type1: NORMAL, Type2: GRASS, BASE STATS <Hp: 60, Attack: 60, Defense: 50, Speed: 75, Special attack: 40, Special defense: 50>, Gender rate: Female50Percent, Base exp: 67, Moves: [('1', 'TACKLE'), ('1', 'CAMOUFLAGE'), ('4', 'GROWL'), ('7', 'SANDATTACK'), ('10', 'DOUBLEKICK'), ('13', 'LEECHSEED'), ('16', 'FEINTATTACK'), ('20', 'TAKEDOWN'), ('24', 'JUMPKICK'), ('28', 'AROMATHERAPY'), ('32', 'ENERGYBALL'), ('36', 'CHARM'), ('41', 'NATUREPOWER'), ('46', 'DOUBLEEDGE'), ('51', 'SOLARBEAM')], Height: 0.6, EVOLUTIONS <Name: SAWSBUCK, Method: Level, Evolution parameter: 34>, Pokedex: The turning of the seasons changes the color and scent of this Pokémon's fur. People use it to mark the seasons.>, Level: 16>]\n",
      "TYPE <Id number: 2, Id: Punk, Name: Punk, Base money: 7, Gender: Female, Skilllevel: 50>\n",
      "Name: Ginelle\n",
      "Nb pokemon: 1\n",
      "Pokemon list: [ <SPECIES <Name: Azurill, Internal name: AZURILL, Id: 298, Type1: NORMAL, Type2: FAIRY, BASE STATS <Hp: 50, Attack: 20, Defense: 40, Speed: 20, Special attack: 20, Special defense: 40>, Gender rate: Female75Percent, Base exp: 38, Moves: [('1', 'SPLASH'), ('1', 'WATERGUN'), ('2', 'TAILWHIP'), ('5', 'WATERSPORT'), ('7', 'BUBBLE'), ('10', 'CHARM'), ('13', 'BUBBLEBEAM'), ('16', 'HELPINGHAND'), ('20', 'SLAM'), ('23', 'BOUNCE')], Height: 0.2, EVOLUTIONS <Name: MARILL, Method: Happiness>, Pokedex: Its tail, which is packed with nutrition, is very bouncy like a rubber ball. On sunny days they gather at the edge of water and splash about for fun.>, Level: 18>]\n",
      "TYPE <Id number: 2, Id: Punk, Name: Punk, Base money: 7, Gender: Female, Skilllevel: 50>\n",
      "Name: Sally\n",
      "Nb pokemon: 2\n",
      "Pokemon list: [ <SPECIES <Name: Spritzee, Internal name: SPRITZEE, Id: 682, Type1: FAIRY, BASE STATS <Hp: 78, Attack: 52, Defense: 60, Speed: 23, Special attack: 63, Special defense: 65>, Gender rate: Female50Percent, Base exp: 68, Moves: [('1', 'SWEETSCENT'), ('1', 'FAIRYWIND'), ('6', 'SWEETKISS'), ('8', 'ODORSLEUTH'), ('13', 'ECHOEDVOICE'), ('17', 'CALMMIND'), ('21', 'DRAININGKISS'), ('25', 'AROMATHERAPY'), ('29', 'ATTRACT'), ('31', 'MOONBLAST'), ('35', 'CHARM'), ('38', 'FLAIL'), ('42', 'MISTYTERRAIN'), ('44', 'SKILLSWAP'), ('48', 'PSYCHIC'), ('50', 'DISARMINGVOICE')], Height: 0.2, EVOLUTIONS <Name: AROMATISSE, Method: TradeItem, Evolution parameter: SACHET>, Pokedex: In the past, rather than using perfume, royal ladies carried a Spritzee that would waft a fragrance they liked.>, Level: 16> <SPECIES <Name: Teddiursa, Internal name: TEDDIURSA, Id: 216, Type1: NORMAL, BASE STATS <Hp: 60, Attack: 80, Defense: 50, Speed: 40, Special attack: 50, Special defense: 50>, Gender rate: Female50Percent, Base exp: 66, Moves: [('1', 'FLING'), ('1', 'COVET'), ('1', 'SCRATCH'), ('1', 'BABYDOLLEYES'), ('1', 'LICK'), ('1', 'FAKETEARS'), ('8', 'FURYSWIPES'), ('15', 'FEINTATTACK'), ('22', 'SWEETSCENT'), ('25', 'PLAYNICE'), ('29', 'SLASH'), ('36', 'CHARM'), ('43', 'REST'), ('43', 'SNORE'), ('50', 'THRASH'), ('57', 'FLING')], Height: 0.6, EVOLUTIONS <Name: URSARING, Method: Level, Evolution parameter: 30>, Pokedex: It licks its palms that are sweetened by being soaked in honey. A Teddiursa makes its own honey by blending fruits and pollen collected by Beedrill.>, Level: 16>]\n",
      "TYPE <Id number: 2, Id: Punk, Name: Punk, Base money: 7, Gender: Female, Skilllevel: 50>\n",
      "Name: Lucinda\n",
      "Nb pokemon: 3\n",
      "Pokemon list: [ <SPECIES <Name: Smoochum, Internal name: SMOOCHUM, Id: 238, Type1: ICE, Type2: PSYCHIC, BASE STATS <Hp: 45, Attack: 30, Defense: 15, Speed: 65, Special attack: 85, Special defense: 65>, Gender rate: AlwaysFemale, Base exp: 61, Moves: [('1', 'POUND'), ('5', 'LICK'), ('8', 'SWEETKISS'), ('11', 'POWDERSNOW'), ('15', 'CONFUSION'), ('18', 'SING'), ('21', 'HEARTSTAMP'), ('25', 'MEANLOOK'), ('28', 'FAKETEARS'), ('31', 'LUCKYCHANT'), ('35', 'AVALANCHE'), ('38', 'PSYCHIC'), ('41', 'COPYCAT'), ('45', 'PERISHSONG'), ('48', 'BLIZZARD')], Height: 0.4, EVOLUTIONS <Name: JYNX, Method: Level, Evolution parameter: 30>, Pokedex: It actively runs about, but also falls often. Whenever it falls, it will check its reflection on a lake's surface to make sure its face isn't dirty.>, Level: 18> <SPECIES <Name: Pidgeotto, Internal name: PIDGEOTTO, Id: 17, Type1: NORMAL, Type2: FLYING, BASE STATS <Hp: 63, Attack: 60, Defense: 55, Speed: 71, Special attack: 50, Special defense: 50>, Gender rate: Female50Percent, Base exp: 122, Moves: [('1', 'TACKLE'), ('1', 'SANDATTACK'), ('1', 'GUST'), ('5', 'SANDATTACK'), ('9', 'GUST'), ('13', 'QUICKATTACK'), ('17', 'WHIRLWIND'), ('22', 'TWISTER'), ('27', 'FEATHERDANCE'), ('32', 'AGILITY'), ('37', 'WINGATTACK'), ('42', 'ROOST'), ('47', 'TAILWIND'), ('52', 'MIRRORMOVE'), ('57', 'AIRSLASH'), ('62', 'HURRICANE')], Height: 1.1, EVOLUTIONS <Name: PIDGEOT, Method: Level, Evolution parameter: 36>, Pokedex: This Pokémon flies around, patrolling its large territory. If its living space is violated, it shows no mercy in thoroughly punishing the foe with its sharp claws.>, Level: 19> <SPECIES <Name: Steenee, Internal name: STEENEE, Id: 762, Type1: GRASS, BASE STATS <Hp: 52, Attack: 40, Defense: 48, Speed: 62, Special attack: 40, Special defense: 48>, Gender rate: AlwaysFemale, Base exp: 102, Moves: [('0', 'DOUBLESLAP'), ('1', 'SPLASH'), ('1', 'PLAYNICE'), ('1', 'RAPIDSPIN'), ('1', 'RAZORLEAF'), ('5', 'PLAYNICE'), ('9', 'RAPIDSPIN'), ('13', 'RAZORLEAF'), ('17', 'SWEETSCENT'), ('21', 'MAGICALLEAF'), ('25', 'TEETERDANCE'), ('29', 'STOMP'), ('33', 'AROMATICMIST'), ('37', 'CAPTIVATE'), ('41', 'AROMATHERAPY'), ('45', 'LEAFSTORM')], Height: 0.7, EVOLUTIONS <Name: TSAREENA, Method: HasMove, Evolution parameter: STOMP>, Pokedex: This Pokémon is always bouncing around energetically. Other Pokémon are attracted by its lively appearance and pleasant aroma.>, Level: 20>]\n",
      "TYPE <Id number: 2, Id: Punk, Name: Punk, Base money: 7, Gender: Female, Skilllevel: 50>\n",
      "Name: Celina\n",
      "Nb pokemon: 2\n",
      "Pokemon list: [ <SPECIES <Name: Axew, Internal name: AXEW, Id: 610, Type1: DRAGON, BASE STATS <Hp: 46, Attack: 87, Defense: 60, Speed: 57, Special attack: 30, Special defense: 40>, Gender rate: Female50Percent, Base exp: 64, Moves: [('1', 'SCRATCH'), ('4', 'LEER'), ('7', 'ASSURANCE'), ('10', 'DRAGONRAGE'), ('13', 'DUALCHOP'), ('16', 'SCARYFACE'), ('20', 'SLASH'), ('24', 'FALSESWIPE'), ('28', 'DRAGONCLAW'), ('32', 'DRAGONDANCE'), ('36', 'TAUNT'), ('41', 'DRAGONPULSE'), ('46', 'SWORDSDANCE'), ('50', 'GUILLOTINE'), ('56', 'OUTRAGE'), ('61', 'GIGAIMPACT')], Height: 0.6, EVOLUTIONS <Name: FRAXURE, Method: Level, Evolution parameter: 38>, Pokedex: They mark their territory by leaving gashes in trees with their tusks. If a tusk breaks, a new one grows in quickly.>, Level: 51> <SPECIES <Name: Lopunny, Internal name: LOPUNNY, Id: 428, Type1: NORMAL, BASE STATS <Hp: 65, Attack: 76, Defense: 84, Speed: 105, Special attack: 54, Special defense: 96>, Gender rate: Female50Percent, Base exp: 168, Moves: [('0', 'RETURN'), ('1', 'HEALINGWISH'), ('1', 'BOUNCE'), ('1', 'ROTOTILLER'), ('1', 'MIRRORCOAT'), ('1', 'MAGICCOAT'), ('1', 'DEFENSECURL'), ('1', 'SPLASH'), ('1', 'POUND'), ('1', 'FORESIGHT'), ('6', 'ENDURE'), ('13', 'BABYDOLLEYES'), ('16', 'QUICKATTACK'), ('23', 'JUMPKICK'), ('26', 'BATONPASS'), ('33', 'AGILITY'), ('36', 'DIZZYPUNCH'), ('43', 'AFTERYOU'), ('46', 'CHARM'), ('53', 'ENTRAINMENT'), ('56', 'BOUNCE'), ('63', 'HEALINGWISH'), ('66', 'HIJUMPKICK')], Height: 1.2, , Pokedex: An extremely cautious Pokémon. It cloaks its body with its fluffy ear fur when it senses danger.>, Level: 53>]\n"
     ]
    }
   ],
   "source": [
    "for t in env.trainer_list:\n",
    "    if(int(t.type.id_number) <= 2):\n",
    "        t.print()"
   ],
   "metadata": {
    "collapsed": false,
    "pycharm": {
     "name": "#%%\n"
    }
   }
  },
  {
   "cell_type": "markdown",
   "source": [],
   "metadata": {
    "collapsed": false,
    "pycharm": {
     "name": "#%% md\n"
    }
   }
  },
  {
   "cell_type": "code",
   "execution_count": 13,
   "outputs": [],
   "source": [
    "import Visualization\n",
    "\n",
    "from matplotlib import pyplot as plt\n",
    "import numpy as np\n",
    "import pandas as pd\n",
    "from collections import Counter"
   ],
   "metadata": {
    "collapsed": false,
    "pycharm": {
     "name": "#%%\n"
    }
   }
  },
  {
   "cell_type": "markdown",
   "source": [
    "Recuperating the types and level of every pokemon used by trainers"
   ],
   "metadata": {
    "collapsed": false,
    "pycharm": {
     "name": "#%% md\n"
    }
   }
  },
  {
   "cell_type": "code",
   "execution_count": 14,
   "outputs": [],
   "source": [
    "idList = []\n",
    "typeList = []\n",
    "levelList = []\n",
    "\n",
    "for s in env.trainer_list:\n",
    "    for p in s.pokemon_list:\n",
    "        typeList.append(p.species.type1)\n",
    "        if (p.species.type2):\n",
    "            typeList.append(p.species.type2)\n",
    "        levelList.append(p.level)"
   ],
   "metadata": {
    "collapsed": false,
    "pycharm": {
     "name": "#%%\n"
    }
   }
  },
  {
   "cell_type": "markdown",
   "source": [
    "Showing the type repartition"
   ],
   "metadata": {
    "collapsed": false,
    "pycharm": {
     "name": "#%% md\n"
    }
   }
  },
  {
   "cell_type": "code",
   "execution_count": 15,
   "outputs": [
    {
     "data": {
      "text/plain": "(<Figure size 432x288 with 1 Axes>,\n (<Figure size 432x288 with 1 Axes>,\n  <AxesSubplot:xlabel='Number of Pokemon species'>))"
     },
     "execution_count": 15,
     "metadata": {},
     "output_type": "execute_result"
    },
    {
     "data": {
      "text/plain": "<Figure size 432x288 with 1 Axes>",
      "image/png": "[encoded data removed]"
     },
     "metadata": {
      "needs_background": "light"
     },
     "output_type": "display_data"
    }
   ],
   "source": [
    "Visualization.plot_type_bar(typeList)"
   ],
   "metadata": {
    "collapsed": false,
    "pycharm": {
     "name": "#%%\n"
    }
   }
  },
  {
   "cell_type": "markdown",
   "source": [
    "Showing the level curve of the game"
   ],
   "metadata": {
    "collapsed": false,
    "pycharm": {
     "name": "#%% md\n"
    }
   }
  },
  {
   "cell_type": "code",
   "execution_count": 16,
   "outputs": [
    {
     "data": {
      "text/plain": "<Figure size 432x288 with 1 Axes>",
      "image/png": "[encoded data removed]"
     },
     "metadata": {
      "needs_background": "light"
     },
     "output_type": "display_data"
    }
   ],
   "source": [
    "levelList.sort()\n",
    "Visualization.show_level_scatter_plot(levelList)\n"
   ],
   "metadata": {
    "collapsed": false,
    "pycharm": {
     "name": "#%%\n"
    }
   }
  }
 ],
 "metadata": {
  "kernelspec": {
   "display_name": "Python 3",
   "language": "python",
   "name": "python3"
  },
  "language_info": {
   "codemirror_mode": {
    "name": "ipython",
    "version": 2
   },
   "file_extension": ".py",
   "mimetype": "text/x-python",
   "name": "python",
   "nbconvert_exporter": "python",
   "pygments_lexer": "ipython2",
   "version": "2.7.6"
  }
 },
 "nbformat": 4,
 "nbformat_minor": 0
}