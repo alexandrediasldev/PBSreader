{
 "cells": [
  {
   "cell_type": "markdown",
   "source": [
    "Importing classes"
   ],
   "metadata": {
    "collapsed": false
   }
  },
  {
   "cell_type": "code",
   "execution_count": 23,
   "metadata": {
    "collapsed": true
   },
   "outputs": [],
   "source": [
    "import PBSclasses.Trainers as tr\n",
    "import PBSclasses.Pokemon as pk\n",
    "import PBSclasses.TrainerTypes as tp\n",
    "import PBSclasses.Species as sp\n",
    "\n",
    "from Parser import *\n",
    "import FileLoader"
   ]
  },
  {
   "cell_type": "markdown",
   "source": [
    "Loading file of different format"
   ],
   "metadata": {
    "collapsed": false
   }
  },
  {
   "cell_type": "code",
   "execution_count": 24,
   "outputs": [],
   "source": [
    "csvTrainer = FileLoader.FileCsvTolist('PBS/trainers.txt')\n",
    "csvTrainerType = FileLoader.FileCsvTolist('PBS/trainertypes.txt')\n",
    "csvMove = FileLoader.FileCsvTolist('PBS/moves.txt')\n",
    "csvItem = FileLoader.FileCsvTolist('PBS/items.txt')\n",
    "equalPokemonSpecies = FileLoader.FileEqualToList('PBS/pokemon.txt')"
   ],
   "metadata": {
    "collapsed": false,
    "pycharm": {
     "name": "#%%\n"
    }
   }
  },
  {
   "cell_type": "markdown",
   "source": [
    "Parsing thoses files and putting them into PBSclasses objects"
   ],
   "metadata": {
    "collapsed": false
   }
  },
  {
   "cell_type": "code",
   "execution_count": 25,
   "outputs": [],
   "source": [
    "\n",
    "trainerTypeList = parseTrainerTypes(csvTrainerType)\n",
    "speciesList = parsePokemon(equalPokemonSpecies)\n",
    "moveList = parserMove(csvMove)\n",
    "itemList = parseItem(csvItem)\n",
    "trainerList = parseTrainerList(csvTrainer, trainerTypeList, speciesList, moveList, itemList)"
   ],
   "metadata": {
    "collapsed": false,
    "pycharm": {
     "name": "#%%\n"
    }
   }
  },
  {
   "cell_type": "markdown",
   "source": [
    "Exporting to bulbapedia trainer entry template"
   ],
   "metadata": {
    "collapsed": false
   }
  },
  {
   "cell_type": "code",
   "execution_count": 26,
   "outputs": [
    {
     "name": "stdout",
     "output_type": "stream",
     "text": [
      "{{Trainer/entry|VILLAGER_M.png|Villager|Yaffei|20|2|261|Poochyena|Both|5||||||||734|Yungoos|Both|4||||||||}}\n",
      "{{Trainer/entry|VILLAGER_M.png|Villager|Kurti|16|2|161|Sentret|Both|4||||||||434|Stunky|Both|4||||||||}}\n",
      "{{Trainer/entry|VILLAGER_M.png|Villager|Joey|20|2|019|Rattata|Both|4||||||||163|Hoothoot|Both|5||||||||}}\n",
      "{{Trainer/entry|VILLAGER_M.png|Villager|Liam|32|2|661|Fletchling|Both|7||||||||263|Zigzagoon|Both|8||||||||}}\n",
      "{{Trainer/entry|VILLAGER_M.png|Villager|Thias|28|2|403|Shinx|Both|7||||||||191|Sunkern|Both|6||||||||}}\n",
      "{{Trainer/entry|VILLAGER_M.png|Villager|Leagus|56|3|420|Cherubi|Both|13||||||||307|Meditite|Both|13||||||||677|Espurr|Both|14||||||||}}\n",
      "{{Trainer/entry|VILLAGER_M.png|Villager|Ree|40|2|268|Cascoon|Both|9||||||||399|Bidoof|Both|10||||||||}}\n",
      "{{Trainer/entry|VILLAGER_M.png|Villager|Billy|40|2|664|Scatterbug|Both|10||||||||013|Weedle|Both|10||||||||}}\n",
      "{{Trainer/entry|VILLAGER_M.png|Villager|Issei|48|2|276|Taillow|Both|12||||||||519|Pidove|Both|10||||||||}}\n",
      "{{Trainer/entry|VILLAGER_M.png|Villager|Vince|44|1|032|Nidoran|Both|11||||||||}}\n",
      "{{Trainer/entry|VILLAGER_M.png|Villager|Walder|44|2|270|Lotad|Both|11||||||||273|Seedot|Both|10||||||||}}\n",
      "{{Trainer/entry|VILLAGER_M.png|Villager|Ryan|56|2|399|Bidoof|Both|14||||||||627|Rufflet|Both|12||||||||}}\n",
      "{{Trainer/entry|VILLAGER_M.png|Villager|Hermes|188|5|277|Swellow|Both|45||||||||295|Exploud|Both|46||||||||289|Slaking|Both|47||||||||450|Hippowdon|Both|46||||||||738|Vikavolt|Both|47|||0|Light Screen|Zap Cannon|Bug Buzz|Agility|}}\n",
      "{{Trainer/entry|VILLAGER_M.png|Villager|Hesiod|192|3|295|Exploud|Both|48||||||||630|Mandibuzz|Both|48||||||||235|Smeargle|Both|48||||Thunderbolt|Aerial Ace|Ice Beam|Iron Defense|}}\n",
      "{{Trainer/entry|VILLAGER_M.png|Villager|Amal|240|3|512|Simisage|Both|59||||||||365|Walrein|Both|59||||||||085|Dodrio|Both|60||||||||}}\n",
      "{{Trainer/entry|VILLAGER_M.png|Villager|Kris|240|3|026|Raichu|Both|60||||||||065|Alakazam|Both|59||||||||342|Crawdaunt|Both|59||||||||}}\n"
     ]
    }
   ],
   "source": [
    "for t in trainerList:\n",
    "    if(t.type.id == \"VILLAGER_M\"):\n",
    "        print(t.toTrainerEntryBulbapedia())"
   ],
   "metadata": {
    "collapsed": false,
    "pycharm": {
     "name": "#%%\n"
    }
   }
  },
  {
   "cell_type": "markdown",
   "source": [],
   "metadata": {
    "collapsed": false,
    "pycharm": {
     "name": "#%% md\n"
    }
   }
  },
  {
   "cell_type": "code",
   "execution_count": 27,
   "outputs": [],
   "source": [
    "import Visualization\n",
    "\n",
    "from matplotlib import pyplot as plt\n",
    "import numpy as np\n",
    "import pandas as pd\n",
    "from collections import Counter"
   ],
   "metadata": {
    "collapsed": false,
    "pycharm": {
     "name": "#%%\n"
    }
   }
  },
  {
   "cell_type": "markdown",
   "source": [
    "Recuperating the types and level of every pokemon used by trainers"
   ],
   "metadata": {
    "collapsed": false,
    "pycharm": {
     "name": "#%% md\n"
    }
   }
  },
  {
   "cell_type": "code",
   "execution_count": 28,
   "outputs": [],
   "source": [
    "idList = []\n",
    "typeList = []\n",
    "levelList = []\n",
    "\n",
    "for s in trainerList:\n",
    "    for p in s.pokemonList:\n",
    "        typeList.append(p.species.type1)\n",
    "        if (p.species.type2):\n",
    "            typeList.append(p.species.type2)\n",
    "        levelList.append(p.level)"
   ],
   "metadata": {
    "collapsed": false,
    "pycharm": {
     "name": "#%%\n"
    }
   }
  },
  {
   "cell_type": "markdown",
   "source": [
    "Showing the type repartition"
   ],
   "metadata": {
    "collapsed": false,
    "pycharm": {
     "name": "#%% md\n"
    }
   }
  },
  {
   "cell_type": "code",
   "execution_count": 29,
   "outputs": [
    {
     "data": {
      "text/plain": "<Figure size 432x288 with 1 Axes>",
      "image/png": "[encoded data removed]"
     },
     "metadata": {
      "needs_background": "light"
     },
     "output_type": "display_data"
    }
   ],
   "source": [
    "Visualization.showTypeBar(typeList)"
   ],
   "metadata": {
    "collapsed": false,
    "pycharm": {
     "name": "#%%\n"
    }
   }
  },
  {
   "cell_type": "markdown",
   "source": [
    "Showing the level curve of the game"
   ],
   "metadata": {
    "collapsed": false,
    "pycharm": {
     "name": "#%% md\n"
    }
   }
  },
  {
   "cell_type": "code",
   "execution_count": 30,
   "outputs": [
    {
     "data": {
      "text/plain": "<Figure size 432x288 with 1 Axes>",
      "image/png": "[encoded data removed]"
     },
     "metadata": {
      "needs_background": "light"
     },
     "output_type": "display_data"
    }
   ],
   "source": [
    "Visualization.showLevelScatterPlot(levelList)\n"
   ],
   "metadata": {
    "collapsed": false,
    "pycharm": {
     "name": "#%%\n"
    }
   }
  }
 ],
 "metadata": {
  "kernelspec": {
   "display_name": "Python 3",
   "language": "python",
   "name": "python3"
  },
  "language_info": {
   "codemirror_mode": {
    "name": "ipython",
    "version": 2
   },
   "file_extension": ".py",
   "mimetype": "text/x-python",
   "name": "python",
   "nbconvert_exporter": "python",
   "pygments_lexer": "ipython2",
   "version": "2.7.6"
  }
 },
 "nbformat": 4,
 "nbformat_minor": 0
}